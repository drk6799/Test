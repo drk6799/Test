{
 "cells": [
  {
   "cell_type": "markdown",
   "metadata": {},
   "source": [
    "## Method to read all the jpeg files present in a folder and subfolders\n"
   ]
  },
  {
   "cell_type": "code",
   "execution_count": 1,
   "metadata": {},
   "outputs": [],
   "source": [
    "import os\n",
    "import glob\n",
    "import cv2\n",
    "from tensorflow.keras.models import load_model\n",
    "import matplotlib.pyplot as plt\n",
    "import numpy as np "
   ]
  },
  {
   "cell_type": "markdown",
   "metadata": {},
   "source": [
    "## Constants"
   ]
  },
  {
   "cell_type": "code",
   "execution_count": 2,
   "metadata": {},
   "outputs": [],
   "source": [
    "TEST_PATH=\"D:\\Sample3\" # Parent directory path\n",
    "EXTENSIONS=(\".jpeg\",\".jpg\",\".png\")  # File type accepted"
   ]
  },
  {
   "cell_type": "markdown",
   "metadata": {},
   "source": [
    "# Load Model Here"
   ]
  },
  {
   "cell_type": "code",
   "execution_count": 3,
   "metadata": {},
   "outputs": [
    {
     "name": "stderr",
     "output_type": "stream",
     "text": [
      "WARNING: Logging before flag parsing goes to stderr.\n",
      "W0825 12:57:20.312255 25448 deprecation.py:506] From C:\\ProgramData\\Anaconda3\\lib\\site-packages\\tensorflow\\python\\ops\\init_ops.py:97: calling GlorotUniform.__init__ (from tensorflow.python.ops.init_ops) with dtype is deprecated and will be removed in a future version.\n",
      "Instructions for updating:\n",
      "Call initializer instance with the dtype argument instead of passing it to the constructor\n",
      "W0825 12:57:20.326247 25448 deprecation.py:506] From C:\\ProgramData\\Anaconda3\\lib\\site-packages\\tensorflow\\python\\ops\\init_ops.py:1251: calling VarianceScaling.__init__ (from tensorflow.python.ops.init_ops) with dtype is deprecated and will be removed in a future version.\n",
      "Instructions for updating:\n",
      "Call initializer instance with the dtype argument instead of passing it to the constructor\n",
      "W0825 12:57:20.327247 25448 deprecation.py:506] From C:\\ProgramData\\Anaconda3\\lib\\site-packages\\tensorflow\\python\\ops\\init_ops.py:97: calling Zeros.__init__ (from tensorflow.python.ops.init_ops) with dtype is deprecated and will be removed in a future version.\n",
      "Instructions for updating:\n",
      "Call initializer instance with the dtype argument instead of passing it to the constructor\n"
     ]
    }
   ],
   "source": [
    "#model_path = \"\"model.h5\"\"          # path of the model\n",
    "model = load_model(\"model.h5\")"
   ]
  },
  {
   "cell_type": "markdown",
   "metadata": {},
   "source": [
    "## Image details"
   ]
  },
  {
   "cell_type": "code",
   "execution_count": 96,
   "metadata": {},
   "outputs": [],
   "source": [
    "CLASS=[\"class1\",\"class2\",\"class\"]# Image categories set it .....\n",
    "CATEGORIES = [\"Ac\", \"As\", \"Cc\",\"Ci\", \"Clear\", \"Cs\", \"Cu\", \"Ns\", \"Sc\", \"St\"]\n",
    "IMG_SIZE = 125"
   ]
  },
  {
   "cell_type": "code",
   "execution_count": 86,
   "metadata": {},
   "outputs": [],
   "source": [
    "def read_file(path,ext):\n",
    "    \"\"\"\n",
    "    return : List of all images in the folder\n",
    "    \"\"\"\n",
    "    file = list()\n",
    "    for root, dirs, files in os.walk(path, topdown=False):\n",
    "        for name in files:\n",
    "            if name.endswith(ext):\n",
    "                x = os.path.join(root, name)\n",
    "                file.append(x)\n",
    "    print(\"Total Images in the folder\")\n",
    "    print(len(file))\n",
    "    return file"
   ]
  },
  {
   "cell_type": "code",
   "execution_count": 103,
   "metadata": {},
   "outputs": [],
   "source": [
    "def predict_all_images(model):\n",
    "    \"\"\"\n",
    "    Method to predict classes and rename them \n",
    "    \"\"\"\n",
    "    # Get Directory of the images=\n",
    "    files = read_file(TEST_PATH,EXTENSIONS)\n",
    "    for img in files:\n",
    "        test_image = cv2.imread(img)\n",
    "        test_image=cv2.cvtColor(test_image, cv2.COLOR_BGR2RGB)\n",
    "        test_image=cv2.resize(test_image,(IMG_SIZE, IMG_SIZE))\n",
    "        plt.imshow(test_image)\n",
    "        test_image = np.array(test_image).reshape(-1, IMG_SIZE, IMG_SIZE, 3)\n",
    "        test_image = test_image/255.0\n",
    "        class_image = model.predict_classes(test_image)\n",
    "        print(class_image)\n",
    "        rename_image(img,class_image)\n",
    "        \n",
    "        \n",
    "        "
   ]
  },
  {
   "cell_type": "code",
   "execution_count": 180,
   "metadata": {},
   "outputs": [],
   "source": [
    "def rename_image(img_path,image_class):\n",
    "    \"\"\"\n",
    "    Method to rename a image\n",
    "    \"\"\"\n",
    "    img_path_list = img_path.split(\"\\\\\")\n",
    "    img_name = img_path_list[-1].rsplit(\".\",maxsplit=1)\n",
    "    img_name_old_withclass = img_name[0] + \"_\"+CLASS[image_class]\n",
    "    img_name_new = img_name\n",
    "    img_name_new[0] = img_name_old_withclass\n",
    "    img_name_new = \".\".join(img_name_new)\n",
    "    img_path_list[-1] = img_name_new\n",
    "    img_path_new = \"/\".join(img_path_list)\n",
    "    print(\"OLD NAME: \",img_path)\n",
    "    print(\"NEW NAME: \",img_name_new)\n",
    "    os.rename(img_path,img_path_new)\n",
    "    \n",
    "    "
   ]
  },
  {
   "cell_type": "code",
   "execution_count": 181,
   "metadata": {},
   "outputs": [
    {
     "name": "stdout",
     "output_type": "stream",
     "text": [
      "OLD NAME:  E:\\Veratech\\elastic_search-master\\img\\New folder (4)\\4.jpeg\n",
      "NEW NAME:  4_class1.jpeg\n"
     ]
    }
   ],
   "source": [
    "#rename_image(files[4],0)"
   ]
  },
  {
   "cell_type": "code",
   "execution_count": null,
   "metadata": {},
   "outputs": [],
   "source": []
  },
  {
   "cell_type": "code",
   "execution_count": null,
   "metadata": {},
   "outputs": [],
   "source": [
    "# set all the valiable and run this\n",
    "predict_all_images(model)"
   ]
  }
 ],
 "metadata": {
  "kernelspec": {
   "display_name": "Python 3",
   "language": "python",
   "name": "python3"
  },
  "language_info": {
   "codemirror_mode": {
    "name": "ipython",
    "version": 3
   },
   "file_extension": ".py",
   "mimetype": "text/x-python",
   "name": "python",
   "nbconvert_exporter": "python",
   "pygments_lexer": "ipython3",
   "version": "3.7.3"
  }
 },
 "nbformat": 4,
 "nbformat_minor": 2
}
